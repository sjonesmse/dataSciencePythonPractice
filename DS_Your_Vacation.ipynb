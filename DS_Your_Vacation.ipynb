{
  "nbformat": 4,
  "nbformat_minor": 0,
  "metadata": {
    "colab": {
      "name": "DS Your Vacation.ipynb",
      "version": "0.3.2",
      "provenance": [],
      "include_colab_link": true
    },
    "kernelspec": {
      "name": "python3",
      "display_name": "Python 3"
    }
  },
  "cells": [
    {
      "cell_type": "markdown",
      "metadata": {
        "id": "view-in-github",
        "colab_type": "text"
      },
      "source": [
        "<a href=\"https://colab.research.google.com/github/sjonesmse/dataSciencePythonPractice/blob/master/DS_Your_Vacation.ipynb\" target=\"_parent\"><img src=\"https://colab.research.google.com/assets/colab-badge.svg\" alt=\"Open In Colab\"/></a>"
      ]
    },
    {
      "metadata": {
        "id": "nWxx6fOTpZHi",
        "colab_type": "code",
        "colab": {}
      },
      "cell_type": "code",
      "source": [
        "import pandas as pd\n",
        "import numpy as np\n",
        "import matplotlib.pyplot as plt\n",
        "import scipy\n",
        "import sklearn\n",
        "import seaborn as sns\n",
        "import re\n",
        "from collections import Counter\n",
        "%matplotlib inline"
      ],
      "execution_count": 0,
      "outputs": []
    },
    {
      "metadata": {
        "id": "bQ6wSzd0p7Uz",
        "colab_type": "text"
      },
      "cell_type": "markdown",
      "source": [
        "#**Hotel Review Workshop Notebook**\n",
        "\n",
        "\n",
        "This notebook will guide you through the creation of a simple bag of words model for text matching."
      ]
    },
    {
      "metadata": {
        "id": "4U7q1yZopdv0",
        "colab_type": "code",
        "colab": {}
      },
      "cell_type": "code",
      "source": [
        "# Import the Data Set.\n",
        "data = pd.read_csv('https://github.com/Thinkful-Ed/data-201-resources/raw/master/hotel-reviews.csv')"
      ],
      "execution_count": 0,
      "outputs": []
    },
    {
      "metadata": {
        "id": "aaiWwiFCz52K",
        "colab_type": "code",
        "colab": {}
      },
      "cell_type": "code",
      "source": [
        "data.head(5)"
      ],
      "execution_count": 0,
      "outputs": []
    },
    {
      "metadata": {
        "id": "0RKG-AZ9pgHj",
        "colab_type": "code",
        "colab": {}
      },
      "cell_type": "code",
      "source": [
        "# Perform some basic cleaning and character removal.\n",
        "\n",
        "# Make everything lower case.\n",
        "data['reviews.text'] = data['reviews.text'].str.lower()\n",
        "\n",
        "# Remove non-text characters.\n",
        "data['reviews.text'] = data['reviews.text'].str.replace(r'\\.|\\!|\\?|\\'|,|-|\\(|\\)', \"\",)\n",
        "\n",
        "# Fill in blank reviews with '' rather than Null (which would give us errors).\n",
        "data['reviews.text'] = data['reviews.text'].fillna('')"
      ],
      "execution_count": 0,
      "outputs": []
    },
    {
      "metadata": {
        "id": "fx6bJ3I70zff",
        "colab_type": "code",
        "colab": {}
      },
      "cell_type": "code",
      "source": [
        "data.head()"
      ],
      "execution_count": 0,
      "outputs": []
    },
    {
      "metadata": {
        "id": "ZAt9U7JBpiRs",
        "colab_type": "code",
        "colab": {}
      },
      "cell_type": "code",
      "source": [
        "# Import and initiate a vectorizer.\n",
        "from sklearn.feature_extraction.text import CountVectorizer\n",
        "\n",
        "# The max features is how many words we want to allow us to create columns for.\n",
        "vectorizer = CountVectorizer(max_features=5000)"
      ],
      "execution_count": 0,
      "outputs": []
    },
    {
      "metadata": {
        "id": "8dLDUo5Zpkmb",
        "colab_type": "code",
        "colab": {}
      },
      "cell_type": "code",
      "source": [
        "# Vectorize our reviews to transform sentences into columns.\n",
        "X = vectorizer.fit_transform(data['reviews.text'])\n",
        "\n",
        "# And then put all of that in a table.\n",
        "bag_of_words = pd.DataFrame(X.toarray(), columns=vectorizer.get_feature_names())"
      ],
      "execution_count": 0,
      "outputs": []
    },
    {
      "metadata": {
        "id": "wXrKYQBbpmPM",
        "colab_type": "code",
        "colab": {}
      },
      "cell_type": "code",
      "source": [
        "# Rename some columns for clarity.\n",
        "data.rename(columns={'address': 'hotel_address', 'city': 'hotel_city',\n",
        "                     'country':'hotel_country', 'name':'hotel_name'},\n",
        "            inplace=True)\n",
        "\n",
        "# Join our bag of words back to our initial hotel data.\n",
        "full_df = data.join(bag_of_words)"
      ],
      "execution_count": 0,
      "outputs": []
    },
    {
      "metadata": {
        "id": "zXq4WThNpn2z",
        "colab_type": "code",
        "colab": {}
      },
      "cell_type": "code",
      "source": [
        "# X is our words.\n",
        "X = bag_of_words\n",
        "\n",
        "# Y is our hotel name (the outcome we care about).\n",
        "Y_hotel = data['hotel_name']"
      ],
      "execution_count": 0,
      "outputs": []
    },
    {
      "metadata": {
        "id": "FTFGYhXVppXT",
        "colab_type": "code",
        "colab": {}
      },
      "cell_type": "code",
      "source": [
        "# Import a random forest model.\n",
        "from sklearn.ensemble import RandomForestClassifier\n",
        "rfc = RandomForestClassifier()\n",
        "\n",
        "# Fit that random forest model to our data.\n",
        "rfc.fit(X,Y_hotel)"
      ],
      "execution_count": 0,
      "outputs": []
    },
    {
      "metadata": {
        "id": "Tu3zLX4LqC-c",
        "colab_type": "text"
      },
      "cell_type": "markdown",
      "source": [
        "# If you want to run a different test review, start from here."
      ]
    },
    {
      "metadata": {
        "id": "FzhMrHanprBj",
        "colab_type": "code",
        "colab": {}
      },
      "cell_type": "code",
      "source": [
        "# Write your own dream vacation review here...\n",
        "test_review = ['''\n",
        "    I loved the beach and the sunshine and the clean and modern room.\n",
        "    ''']"
      ],
      "execution_count": 0,
      "outputs": []
    },
    {
      "metadata": {
        "id": "7GzGD4Vtptcs",
        "colab_type": "code",
        "colab": {}
      },
      "cell_type": "code",
      "source": [
        "# Convert your test review into a vector.\n",
        "X_test = vectorizer.transform(test_review).toarray()"
      ],
      "execution_count": 0,
      "outputs": []
    },
    {
      "metadata": {
        "id": "7tE0DcTTpu1r",
        "colab_type": "code",
        "colab": {}
      },
      "cell_type": "code",
      "source": [
        "# Match your review.\n",
        "prediction = rfc.predict(X_test)[0]"
      ],
      "execution_count": 0,
      "outputs": []
    },
    {
      "metadata": {
        "id": "w7TxmCbRpwrT",
        "colab_type": "code",
        "colab": {}
      },
      "cell_type": "code",
      "source": [
        "# Return the essential information about your match.\n",
        "data[data['hotel_name'] == prediction][['hotel_name', 'hotel_address', \n",
        "                                        'hotel_city', 'hotel_country']].head(1)"
      ],
      "execution_count": 0,
      "outputs": []
    }
  ]
}